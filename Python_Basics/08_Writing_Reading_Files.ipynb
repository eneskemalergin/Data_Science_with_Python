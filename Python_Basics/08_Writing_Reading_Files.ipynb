{
 "cells": [
  {
   "cell_type": "markdown",
   "metadata": {},
   "source": [
    "Up until now, we dealt with very little data created by us or asked from user, and we stored them in lists or variables. In this lecture you will be introduced to file handling in Python.\n",
    "\n",
    "After this lecture you will be able to;\n",
    "\n",
    "- Open/Close files\n",
    "- Read/Write files\n",
    "- Utilize text files in Python\n",
    "- Perform string processing in Python\n",
    "\n",
    "---\n",
    "\n",
    "## Text File vs Binary File\n",
    "\n",
    "A __text file__ is a file containing characters, structured as individual lines of text. In addition to printable characters, text files also contain the nonprinting newline character, ```\\n```, to denote the end of each text line. \n",
    "\n",
    "Text files can be directly viewed and created using a text editor.\n",
    "\n",
    "In contrast, __binary files__ can contain various types of data, such as numerical values, and are therefore not structured as lines of text. Such files can only be read and written via a computer program.\n",
    "\n",
    "\n",
    "## Handling Files\n",
    "\n",
    "Fundamental operations of all types of files include _opening_ a file, _reading_ from a file, _writing_ to a file, and _closing_ a file. Next we discuss each of these operations when using text files in Python.\n",
    "\n",
    "All files must first be opened before they can be used. In Python, when a file is opened, a file object is created that provides methods for accessing the file."
   ]
  },
  {
   "cell_type": "markdown",
   "metadata": {},
   "source": [
    "The ```open``` function opens the given file with ```r``` reading access. "
   ]
  },
  {
   "cell_type": "code",
   "execution_count": 1,
   "metadata": {},
   "outputs": [
    {
     "ename": "FileNotFoundError",
     "evalue": "[Errno 2] No such file or directory: 'sample.txt'",
     "output_type": "error",
     "traceback": [
      "\u001b[0;31m---------------------------------------------------------------------------\u001b[0m",
      "\u001b[0;31mFileNotFoundError\u001b[0m                         Traceback (most recent call last)",
      "\u001b[0;32m<ipython-input-1-2386dbbaa711>\u001b[0m in \u001b[0;36m<module>\u001b[0;34m()\u001b[0m\n\u001b[1;32m      1\u001b[0m \u001b[0;31m# IOError occured because we should put the write true direction.\u001b[0m\u001b[0;34m\u001b[0m\u001b[0;34m\u001b[0m\u001b[0m\n\u001b[0;32m----> 2\u001b[0;31m \u001b[0minput_file\u001b[0m \u001b[0;34m=\u001b[0m \u001b[0mopen\u001b[0m\u001b[0;34m(\u001b[0m\u001b[0;34m'sample.txt'\u001b[0m\u001b[0;34m,\u001b[0m \u001b[0;34m'r'\u001b[0m\u001b[0;34m)\u001b[0m\u001b[0;34m\u001b[0m\u001b[0m\n\u001b[0m",
      "\u001b[0;31mFileNotFoundError\u001b[0m: [Errno 2] No such file or directory: 'sample.txt'"
     ]
    }
   ],
   "source": [
    "# IOError occured because we should put the write true direction.\n",
    "input_file = open('sample.txt', 'r') "
   ]
  },
  {
   "cell_type": "code",
   "execution_count": 3,
   "metadata": {},
   "outputs": [
    {
     "name": "stdout",
     "output_type": "stream",
     "text": [
      "<_io.TextIOWrapper name='sample_data/sample.txt' mode='r' encoding='UTF-8'>\n"
     ]
    }
   ],
   "source": [
    "input_file = open('sample_data/sample.txt', 'r') # True direction, with folder inside.\n",
    "print(input_file)\n",
    "input_file.close()"
   ]
  },
  {
   "cell_type": "markdown",
   "metadata": {},
   "source": [
    "When you try to print the variable created, you will not get what you want. It is just an object created to use in later statements. \n",
    "\n",
    "--- \n",
    "\n",
    "\n",
    "To open a file the ```open``` function used with parameter ```'w'```"
   ]
  },
  {
   "cell_type": "code",
   "execution_count": 4,
   "metadata": {},
   "outputs": [],
   "source": [
    "# I used sample_data/name because I want to save in sample_data folder\n",
    "output_file = open('sample_data/mynewfile.txt', 'w') "
   ]
  },
  {
   "cell_type": "markdown",
   "metadata": {},
   "source": [
    "We won't get any error because we are creating a new file only error we might get is harddisk full error from system. After we are done manipulating the file we have to close the file. with ```close()``` function."
   ]
  },
  {
   "cell_type": "code",
   "execution_count": 5,
   "metadata": {
    "collapsed": true
   },
   "outputs": [],
   "source": [
    "output_file.close()"
   ]
  },
  {
   "cell_type": "markdown",
   "metadata": {},
   "source": [
    "### Reading Files\n",
    "\n",
    "The ```readline``` method returns as a string the next line of a text file, including the end-of-line character, ```\\n```.When the end-of-file is reached, it returns an empty string:"
   ]
  },
  {
   "cell_type": "code",
   "execution_count": 7,
   "metadata": {},
   "outputs": [
    {
     "name": "stdout",
     "output_type": "stream",
     "text": [
      "Line one\n",
      "\n",
      "Line two\n",
      "\n",
      "Line three\n",
      "\n"
     ]
    }
   ],
   "source": [
    "input_file = open('sample_data/sample.txt', 'r')\n",
    "empty_str = ''\n",
    "line = input_file.readline() \n",
    "while line != empty_str:\n",
    "    print(line)\n",
    "    line = input_file.readline()\n",
    "\n",
    "input_file.close()"
   ]
  },
  {
   "cell_type": "markdown",
   "metadata": {},
   "source": [
    "I used ```while``` loop to show the logic behind the reading, however ```for``` loop gives us a more elegant way."
   ]
  },
  {
   "cell_type": "code",
   "execution_count": 9,
   "metadata": {},
   "outputs": [
    {
     "name": "stdout",
     "output_type": "stream",
     "text": [
      "Line one\n",
      "\n",
      "Line two\n",
      "\n",
      "Line three\n",
      "\n"
     ]
    }
   ],
   "source": [
    "input_file = open('sample_data/sample.txt', 'r')\n",
    "for line in input_file:\n",
    "    print(line)"
   ]
  },
  {
   "cell_type": "markdown",
   "metadata": {},
   "source": [
    "### Writing Files\n",
    "\n",
    "The ```write``` method is used to write strings to a file:"
   ]
  },
  {
   "cell_type": "code",
   "execution_count": 10,
   "metadata": {
    "collapsed": true
   },
   "outputs": [],
   "source": [
    "empty_str= ''\n",
    "input_file = open('sample_data/sample.txt', 'r')\n",
    "output_file = open('sample_data/newfile.txt', 'w')\n",
    "line = input_file.readline()\n",
    "\n",
    "while line != empty_str:\n",
    "    output_file.write(line)\n",
    "    line = input_file.readline()\n",
    "    \n",
    "output_file.close()"
   ]
  },
  {
   "cell_type": "markdown",
   "metadata": {},
   "source": [
    "The ```write``` method does not add a newline character to the output string . Thus, a newline character will be output only if it is part of the string being written. But in the example above ```line``` variable comes with ```\\n``` at the end. \n",
    "\n",
    "## String Processing\n",
    "\n",
    "The information in a text file, as with all information, is most likely going to be searched, analyzed, and/or updated. Collectively, the operations performed on strings is called __string processing__.\n",
    "\n",
    "We have learned some basic operations on strings such as \n",
    "\n",
    "- accessing elements: ```name[k]```\n",
    "- getting the length: ```len(str)```\n",
    "\n",
    "__String Traversal__: The characters in a string can be easily traversed, without the use of an explicit index variable, using the ```for chr in string``` form of the for statement."
   ]
  },
  {
   "cell_type": "code",
   "execution_count": 11,
   "metadata": {
    "collapsed": true
   },
   "outputs": [],
   "source": [
    "space = ' '\n",
    "num_spaces = 0\n",
    "line = input_file.readline()\n",
    "for k in range(0, len(line)):\n",
    "    if line[k] == space:\n",
    "        num_spaces = num_spaces + 1"
   ]
  },
  {
   "cell_type": "code",
   "execution_count": 12,
   "metadata": {},
   "outputs": [
    {
     "data": {
      "text/plain": [
       "0"
      ]
     },
     "execution_count": 12,
     "metadata": {},
     "output_type": "execute_result"
    }
   ],
   "source": [
    "num_spaces"
   ]
  },
  {
   "cell_type": "markdown",
   "metadata": {},
   "source": [
    "There are a number of methods specific to strings in addition to the general sequence operations.\n",
    "\n",
    "### Checking the Contents of a String\n"
   ]
  },
  {
   "cell_type": "code",
   "execution_count": 13,
   "metadata": {
    "collapsed": true
   },
   "outputs": [],
   "source": [
    "s = 'Hello World!'"
   ]
  },
  {
   "cell_type": "markdown",
   "metadata": {},
   "source": [
    "__```str.isalpha()```: __ Returns True if ```str``` contains only letters"
   ]
  },
  {
   "cell_type": "code",
   "execution_count": 14,
   "metadata": {},
   "outputs": [
    {
     "data": {
      "text/plain": [
       "False"
      ]
     },
     "execution_count": 14,
     "metadata": {},
     "output_type": "execute_result"
    }
   ],
   "source": [
    "s.isalpha() #"
   ]
  },
  {
   "cell_type": "markdown",
   "metadata": {},
   "source": [
    "__```str.isdigit()```__ Returns True if str contains only digits."
   ]
  },
  {
   "cell_type": "code",
   "execution_count": 15,
   "metadata": {},
   "outputs": [
    {
     "data": {
      "text/plain": [
       "False"
      ]
     },
     "execution_count": 15,
     "metadata": {},
     "output_type": "execute_result"
    }
   ],
   "source": [
    "s.isdigit()"
   ]
  },
  {
   "cell_type": "code",
   "execution_count": 16,
   "metadata": {},
   "outputs": [
    {
     "data": {
      "text/plain": [
       "True"
      ]
     },
     "execution_count": 16,
     "metadata": {},
     "output_type": "execute_result"
    }
   ],
   "source": [
    "\"1\".isdigit()"
   ]
  },
  {
   "cell_type": "markdown",
   "metadata": {},
   "source": [
    "__```str.islower()``` __ and __```str.isupper()```__ : Returns True if str contains only lower/upper case letters"
   ]
  },
  {
   "cell_type": "code",
   "execution_count": 17,
   "metadata": {},
   "outputs": [
    {
     "data": {
      "text/plain": [
       "False"
      ]
     },
     "execution_count": 17,
     "metadata": {},
     "output_type": "execute_result"
    }
   ],
   "source": [
    "s.islower()"
   ]
  },
  {
   "cell_type": "code",
   "execution_count": 18,
   "metadata": {},
   "outputs": [
    {
     "data": {
      "text/plain": [
       "'Hello World!'"
      ]
     },
     "execution_count": 18,
     "metadata": {},
     "output_type": "execute_result"
    }
   ],
   "source": [
    "s"
   ]
  },
  {
   "cell_type": "code",
   "execution_count": 19,
   "metadata": {},
   "outputs": [
    {
     "data": {
      "text/plain": [
       "False"
      ]
     },
     "execution_count": 19,
     "metadata": {},
     "output_type": "execute_result"
    }
   ],
   "source": [
    "s.isupper()"
   ]
  },
  {
   "cell_type": "code",
   "execution_count": 20,
   "metadata": {},
   "outputs": [
    {
     "data": {
      "text/plain": [
       "True"
      ]
     },
     "execution_count": 20,
     "metadata": {},
     "output_type": "execute_result"
    }
   ],
   "source": [
    "\"HELLO WORLD\".isupper()"
   ]
  },
  {
   "cell_type": "markdown",
   "metadata": {},
   "source": [
    "__```str.lower()```__ and __```str.upper()```__: Returns lower/upper case version of str"
   ]
  },
  {
   "cell_type": "code",
   "execution_count": 21,
   "metadata": {},
   "outputs": [
    {
     "data": {
      "text/plain": [
       "'Hello World!'"
      ]
     },
     "execution_count": 21,
     "metadata": {},
     "output_type": "execute_result"
    }
   ],
   "source": [
    "s"
   ]
  },
  {
   "cell_type": "code",
   "execution_count": 22,
   "metadata": {},
   "outputs": [
    {
     "data": {
      "text/plain": [
       "'HELLO WORLD!'"
      ]
     },
     "execution_count": 22,
     "metadata": {},
     "output_type": "execute_result"
    }
   ],
   "source": [
    "s.upper()"
   ]
  },
  {
   "cell_type": "code",
   "execution_count": 23,
   "metadata": {},
   "outputs": [
    {
     "data": {
      "text/plain": [
       "'hello world!'"
      ]
     },
     "execution_count": 23,
     "metadata": {},
     "output_type": "execute_result"
    }
   ],
   "source": [
    "s.lower()"
   ]
  },
  {
   "cell_type": "code",
   "execution_count": 24,
   "metadata": {},
   "outputs": [
    {
     "data": {
      "text/plain": [
       "'Hello World!'"
      ]
     },
     "execution_count": 24,
     "metadata": {},
     "output_type": "execute_result"
    }
   ],
   "source": [
    "s # Does not change... You have to assign it to an new variable or overwrite"
   ]
  },
  {
   "cell_type": "code",
   "execution_count": 25,
   "metadata": {
    "collapsed": true
   },
   "outputs": [],
   "source": [
    "s = s.lower()"
   ]
  },
  {
   "cell_type": "code",
   "execution_count": 26,
   "metadata": {},
   "outputs": [
    {
     "data": {
      "text/plain": [
       "'hello world!'"
      ]
     },
     "execution_count": 26,
     "metadata": {},
     "output_type": "execute_result"
    }
   ],
   "source": [
    "s"
   ]
  },
  {
   "cell_type": "markdown",
   "metadata": {},
   "source": [
    "### Searching the Contents of a String\n",
    "\n",
    "\n",
    "__```str.find(w)```:__ Returns the index of the first occurrence of w in str, Returns -1 if not found\n"
   ]
  },
  {
   "cell_type": "code",
   "execution_count": 27,
   "metadata": {},
   "outputs": [
    {
     "data": {
      "text/plain": [
       "'hello world!'"
      ]
     },
     "execution_count": 27,
     "metadata": {},
     "output_type": "execute_result"
    }
   ],
   "source": [
    "s"
   ]
  },
  {
   "cell_type": "code",
   "execution_count": 28,
   "metadata": {},
   "outputs": [
    {
     "data": {
      "text/plain": [
       "10"
      ]
     },
     "execution_count": 28,
     "metadata": {},
     "output_type": "execute_result"
    }
   ],
   "source": [
    "s.find('d')"
   ]
  },
  {
   "cell_type": "code",
   "execution_count": 29,
   "metadata": {},
   "outputs": [
    {
     "data": {
      "text/plain": [
       "-1"
      ]
     },
     "execution_count": 29,
     "metadata": {},
     "output_type": "execute_result"
    }
   ],
   "source": [
    "s.find('x')"
   ]
  },
  {
   "cell_type": "markdown",
   "metadata": {},
   "source": [
    "### Replacing the Contents of a String\n",
    "\n",
    "__```str.replace(w,t)```:__ Returns a copy of str wita ll occurrences of w replaced with t."
   ]
  },
  {
   "cell_type": "code",
   "execution_count": 30,
   "metadata": {},
   "outputs": [
    {
     "data": {
      "text/plain": [
       "'hello world!'"
      ]
     },
     "execution_count": 30,
     "metadata": {},
     "output_type": "execute_result"
    }
   ],
   "source": [
    "s"
   ]
  },
  {
   "cell_type": "code",
   "execution_count": 31,
   "metadata": {},
   "outputs": [
    {
     "data": {
      "text/plain": [
       "'he**o wor*d!'"
      ]
     },
     "execution_count": 31,
     "metadata": {},
     "output_type": "execute_result"
    }
   ],
   "source": [
    "s.replace(\"l\", \"*\")"
   ]
  },
  {
   "cell_type": "markdown",
   "metadata": {},
   "source": [
    "### Removing the Contents of a String\n",
    "\n",
    "__```str.strip(w)```:__ Returns a copy of str with all leading and trailing characters that appear in w removed."
   ]
  },
  {
   "cell_type": "code",
   "execution_count": 32,
   "metadata": {},
   "outputs": [
    {
     "data": {
      "text/plain": [
       "'hello world!'"
      ]
     },
     "execution_count": 32,
     "metadata": {},
     "output_type": "execute_result"
    }
   ],
   "source": [
    "s"
   ]
  },
  {
   "cell_type": "code",
   "execution_count": 33,
   "metadata": {},
   "outputs": [
    {
     "data": {
      "text/plain": [
       "'hello world'"
      ]
     },
     "execution_count": 33,
     "metadata": {},
     "output_type": "execute_result"
    }
   ],
   "source": [
    "s.strip('!')"
   ]
  },
  {
   "cell_type": "markdown",
   "metadata": {},
   "source": [
    "### Splitting a String\n",
    "\n",
    "__```str.split(w)```:__ Returns a list containing all strings in str delimited by w:"
   ]
  },
  {
   "cell_type": "code",
   "execution_count": 34,
   "metadata": {},
   "outputs": [
    {
     "data": {
      "text/plain": [
       "'hello world!'"
      ]
     },
     "execution_count": 34,
     "metadata": {},
     "output_type": "execute_result"
    }
   ],
   "source": [
    "s"
   ]
  },
  {
   "cell_type": "code",
   "execution_count": 35,
   "metadata": {},
   "outputs": [
    {
     "data": {
      "text/plain": [
       "['hello', 'world']"
      ]
     },
     "execution_count": 35,
     "metadata": {},
     "output_type": "execute_result"
    }
   ],
   "source": [
    "s.strip('!').split(\" \")"
   ]
  },
  {
   "cell_type": "code",
   "execution_count": 36,
   "metadata": {},
   "outputs": [
    {
     "data": {
      "text/plain": [
       "'hello wo'"
      ]
     },
     "execution_count": 36,
     "metadata": {},
     "output_type": "execute_result"
    }
   ],
   "source": [
    "s[:-4]"
   ]
  },
  {
   "cell_type": "markdown",
   "metadata": {},
   "source": [
    "### Apply It!\n",
    "\n",
    "<p style=color:##008080>\n",
    "Write a program the removes all occurrences of the letter ‘e’ from a text file. To be able to get the text file copy paste a paragraph from internet into a file and use that file as a text file. Output should be similar to this:\n",
    "</p>\n",
    "        \n",
    "        \n",
    "        This program will display the contents of a provided text file\n",
    "        with all occurrences of the letter 'e' removed\n",
    "        Enter file name (including file extension): sample_data/totc_1.txt\n",
    "\n",
    "\n",
    "        Th Priod\n",
    "        \n",
    "        It was th bst of tims, it was th worst of tims,\n",
    "        it was th ag of wisdom, it was th ag of foolishnss,\n",
    "        it was th poch of blif, it was th poch of incrdulity,\n",
    "        it was th sason of Light, it was th sason of Darknss,\n",
    "        it was th spring of hop, it was th wintr of dspair,\n",
    "        w had vrything bfor us, w had nothing bfor us,\n",
    "        w wr all going dirct to Havn, w wr all going dirct\n",
    "        th othr way--in short, th priod was so far lik th prsnt\n",
    "        priod, that som of its noisist authoritis insistd on its\n",
    "        bing rcivd, for good or for vil, in th suprlativ dgr\n",
    "        of comparison only.\n",
    "\n",
    "        Thr wr a king with a larg jaw and a qun with a plain fac,\n",
    "        on th thron of ngland; thr wr a king with a larg jaw and\n",
    "        a qun with a fair fac, on th thron of Franc.  In both\n",
    "        countris it was clarr than crystal to th lords of th Stat\n",
    "        prsrvs of loavs and fishs, that things in gnral wr\n",
    "        sttld for vr.\n",
    "\n",
    "    \n",
    "        379 occurrences of the letter 'e' removed\n",
    "        Percentage of data lost: 6%\n",
    "        Modified text in file sample_data/totc_1_e.txt\n"
   ]
  },
  {
   "cell_type": "code",
   "execution_count": null,
   "metadata": {
    "collapsed": true
   },
   "outputs": [],
   "source": []
  },
  {
   "cell_type": "markdown",
   "metadata": {},
   "source": [
    "---\n",
    "## Programming Exercises\n",
    "\n",
    "__P1:__ \n",
    "\n",
    "    Write a Python function called reduceWhitespace that is given a line read from a text file and returns the line with all extra whitespace characters between words removed,\n",
    "    \n",
    "        ‘This  line  has  extra  space  characters’ ➝ ‘This line has extra space characters’\n",
    "    "
   ]
  },
  {
   "cell_type": "code",
   "execution_count": null,
   "metadata": {
    "collapsed": true
   },
   "outputs": [],
   "source": []
  },
  {
   "cell_type": "markdown",
   "metadata": {},
   "source": [
    "__P2:__\n",
    "\n",
    "    Write a Python function named extractTemp that is given a line read from a text file and displays the one number (integer) found in the string,\n",
    "    \n",
    "                                ‘The high today will be 75 degrees’ ➝ 75"
   ]
  },
  {
   "cell_type": "code",
   "execution_count": null,
   "metadata": {
    "collapsed": true
   },
   "outputs": [],
   "source": []
  },
  {
   "cell_type": "markdown",
   "metadata": {},
   "source": [
    "__P3:__ \n",
    "\n",
    "    Write a Python function named checkQuotes that is given a line read from a text file and returns True if each quote characters in the line has a matching quote (of the same type), otherwise returns False.\n",
    "    \n",
    "                            ‘Today’s high temperature will be 75 degrees’ ➝ False"
   ]
  },
  {
   "cell_type": "code",
   "execution_count": null,
   "metadata": {
    "collapsed": true
   },
   "outputs": [],
   "source": []
  },
  {
   "cell_type": "markdown",
   "metadata": {},
   "source": [
    "__P4:__\n",
    "\n",
    "    Write a Python function named countAllLetters that is given a line read from a text file and returns a list containing every letter in the line and the number of times that each letter appears (with upper/lower case letters counted together),\n",
    "    \n",
    "        ‘This is a short line’ ➝ [('t', 2), ('h', 2), ('i', 3), ('s', 3), ('a', 1),('o', 1), ('r', 1), ('l', 1),                                     ('n', 1), ('e', 1)]"
   ]
  },
  {
   "cell_type": "code",
   "execution_count": null,
   "metadata": {
    "collapsed": true
   },
   "outputs": [],
   "source": []
  },
  {
   "cell_type": "markdown",
   "metadata": {},
   "source": [
    "__P5:__\n",
    "\n",
    "    Write a Python function named interleaveChars that is given two lines read from a text file, and returns a single string containing the characters of each string interleaved,\n",
    "    \n",
    "                                       ‘Hello’, ‘Goodbye’ ➝ 'HGeololdobye' "
   ]
  },
  {
   "cell_type": "code",
   "execution_count": null,
   "metadata": {
    "collapsed": true
   },
   "outputs": [],
   "source": []
  },
  {
   "cell_type": "markdown",
   "metadata": {},
   "source": [
    "__P6:__\n",
    "\n",
    "    Write a program segment that opens and reads a text file and displays how many lines of text are in the file."
   ]
  },
  {
   "cell_type": "code",
   "execution_count": null,
   "metadata": {
    "collapsed": true
   },
   "outputs": [],
   "source": []
  },
  {
   "cell_type": "markdown",
   "metadata": {},
   "source": [
    "__P7:__\n",
    "\n",
    "       Write a program segment that reads a text file named original_text, and writes every other line, starting with the first line, to a new file named half_text."
   ]
  },
  {
   "cell_type": "code",
   "execution_count": null,
   "metadata": {
    "collapsed": true
   },
   "outputs": [],
   "source": []
  },
  {
   "cell_type": "markdown",
   "metadata": {},
   "source": [
    "__P8:__\n",
    "\n",
    "    Write a program segment that reads a text file named original_text, and displays how many times the letter ‘e’ occurs."
   ]
  },
  {
   "cell_type": "code",
   "execution_count": null,
   "metadata": {
    "collapsed": true
   },
   "outputs": [],
   "source": []
  },
  {
   "cell_type": "markdown",
   "metadata": {},
   "source": [
    "---\n",
    "## Modification Problem\n",
    "\n",
    "Modify the Sparse Text program you wrote in ```Apply It!``` section, so that instead of the letter ‘e’ being removed, the user is prompted for the letter to remove."
   ]
  },
  {
   "cell_type": "code",
   "execution_count": null,
   "metadata": {
    "collapsed": true
   },
   "outputs": [],
   "source": []
  },
  {
   "cell_type": "markdown",
   "metadata": {},
   "source": [
    "---\n",
    "## Development Problems\n",
    "\n",
    "\n",
    "__D1: Sentence, Word, and Character Count Program__ \n",
    "\n",
    "    Develop and test a Python program that reads in any given text file and displays the number of lines, words, and total number of characters there are in the file, including spaces and special characters, but not the newline character, '\\n'."
   ]
  },
  {
   "cell_type": "code",
   "execution_count": null,
   "metadata": {
    "collapsed": true
   },
   "outputs": [],
   "source": []
  },
  {
   "cell_type": "markdown",
   "metadata": {},
   "source": [
    "__D2: Variation on a Sparsity Program__\n",
    "\n",
    "    Develop and test a program that reads the text in a given file, and produces a new file in which the first occurrence only of the vowel in each word is removed, unless the removal would leave an empty word (for example, for the word “I”). Consider how readable the results are for various sample text.\n",
    "    "
   ]
  },
  {
   "cell_type": "code",
   "execution_count": null,
   "metadata": {
    "collapsed": true
   },
   "outputs": [],
   "source": []
  },
  {
   "cell_type": "markdown",
   "metadata": {},
   "source": [
    "__D3: Message Encryption/Decryption Program__\n",
    "\n",
    "    Develop and test a Python program that reads messages contained in a text file, and encodes the messages saved in a new file. For encoding messages, a simple substitution key should be used. \n",
    "    \n",
    "    \n",
    "![Encryption](https://raw.githubusercontent.com/NAU-ACM/IntroductionToPython/master/images/encrpytion_key.png)\n",
    "    \n",
    "    Each letter in the left column is substituted with the corresponding letter in the right column when encod- ing. Thus, to decode, the letters are substituted the opposite way. Unencrypted message files will be simple text files with file extension .txt. Encrypted message files will have the same file name, but with file extension .enc. For each message encoded, a new substitution key should be randomly generated and saved in a file with the extension '.key'. Your program should also be able to decrypt messages given a specific encoded message and the corresponding key."
   ]
  },
  {
   "cell_type": "code",
   "execution_count": null,
   "metadata": {
    "collapsed": true
   },
   "outputs": [],
   "source": []
  },
  {
   "cell_type": "markdown",
   "metadata": {},
   "source": [
    "__D4: Universal Product Code Check Digit Verification Program__\n",
    "\n",
    "    A check digit is a digit added to a string of digits that is derived from other digits in the string. Check digits provide a form of redundancy of information, used for determining if any of the digits in the string are incorrect or misread.\n",
    "    \n",
    "    The Universal Product Code on almost all purchase items utilizes a bar code to allow for the scanning of items. Below the bar code is the sequence of digits that the bar code encodes, as illustrated below.\n",
    "    \n",
    "![](http://2.bp.blogspot.com/_YsgOkAVMc0A/TCX7SQEV_5I/AAAAAAAACFo/ZxvLKZvdmLM/s1600/UPC-A-036000291452.png)\n",
    "\n",
    "    The last digit of the product code (2) is a check digit computed as follows,\n",
    "    \n",
    "    1. Add up all digits in the odd numbered positions (first, third, fifth, etc., starting with the leftmost digit) excluding the last check digit, and multiply the result by 3:\n",
    "    \n",
    "                                        0 + 6 + 0 + 2 + 1 + 5 = 14\n",
    "                                                14 * 3 = 42\n",
    "                                                \n",
    "    2. Add up all digits in the even numbered positions (second, fourth, etc.) excluding the last check digit,\n",
    "                                            \n",
    "                                          3 + 0 + 0 + 9 + 4 = 16\n",
    "    \n",
    "    3. Take the sum of the two previous results mod 10,\n",
    "                                          \n",
    "                                           (42 + 16) mod 10 = 8\n",
    "    \n",
    "    4. Subtract the result from 10 to get the checksum digit. \n",
    "                                                \n",
    "                                                10 - 8 = 2\n",
    "                                                                                       \n",
    "      \n",
    "    Develop and test a Python program that verifi es the check digit of Universal Product Codes."
   ]
  },
  {
   "cell_type": "code",
   "execution_count": null,
   "metadata": {
    "collapsed": true
   },
   "outputs": [],
   "source": []
  }
 ],
 "metadata": {
  "anaconda-cloud": {},
  "kernelspec": {
   "display_name": "Python [default]",
   "language": "python",
   "name": "python3"
  },
  "language_info": {
   "codemirror_mode": {
    "name": "ipython",
    "version": 3
   },
   "file_extension": ".py",
   "mimetype": "text/x-python",
   "name": "python",
   "nbconvert_exporter": "python",
   "pygments_lexer": "ipython3",
   "version": "3.5.3"
  }
 },
 "nbformat": 4,
 "nbformat_minor": 1
}
