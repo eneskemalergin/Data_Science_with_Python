{
 "cells": [
  {
   "cell_type": "markdown",
   "metadata": {},
   "source": [
    "# Functions\n",
    "\n",
    "Sometimes what we have to do is to write long and complex solutions to solve our problems and without the help of __functions__ the task will be really complicated. In order to manage the complexity of a large problem, we have to broke it down into smaller subproblems.\n",
    "\n",
    "That's exactyl what functions are doing for us. The large program is divided into manageable pieces called ```program routines``` for us we focus particularly functions.\n",
    "\n",
    "We have been using some built-in function such as ```range``` and ```len```, but now we will implement our own functions to make things less complex. \n",
    "\n",
    "- A __routine__ is named group of instructions performing some task.\n",
    "- A routine can be __invoked__(called) as many times as needed. \n",
    "- A __function__ is Python's version of a program routine.\n",
    "- Some functions are designed to return a value, while other are designed for other purposes. \n",
    "\n",
    "![Basic Function Syntax](http://www.voidspace.org.uk/python/weblog/images/basic-function-tartley.png)"
   ]
  },
  {
   "cell_type": "markdown",
   "metadata": {},
   "source": [
    "```Python \n",
    "def average(n1, n2, n3): # Function Header\n",
    "    # Function Body\n",
    "    res = (n1+n2+n3)/3.0\n",
    "    return res\n",
    "```\n",
    "\n",
    "- ```def``` -> Keyword for functions (define)\n",
    "- ```average``` -> identifier, which is the function's name\n",
    "- ```(n1, n2, n3)``` -> list of identifiers called __formal parameters__ or simply __parameters__\n",
    "\n",
    "\n",
    "When we use functions we call the function with __actual arguments__ which replaces the parameters.\n",
    "\n",
    "```Python\n",
    "num1 = 10\n",
    "num2 = 25\n",
    "num3 = 16\n",
    "\n",
    "print(average(num1, num2, num3))\n",
    "```"
   ]
  },
  {
   "cell_type": "code",
   "execution_count": 1,
   "metadata": {
    "collapsed": true
   },
   "outputs": [],
   "source": [
    "def average(n1, n2, n3): # Function Header\n",
    "    # Function Body\n",
    "    res = (n1+n2+n3)/3.0\n",
    "    return res"
   ]
  },
  {
   "cell_type": "code",
   "execution_count": 2,
   "metadata": {},
   "outputs": [
    {
     "name": "stdout",
     "output_type": "stream",
     "text": [
      "17.0\n"
     ]
    }
   ],
   "source": [
    "num1 = 10\n",
    "num2 = 25\n",
    "num3 = 16\n",
    "\n",
    "print(average(num1, num2, num3))"
   ]
  },
  {
   "cell_type": "code",
   "execution_count": 5,
   "metadata": {},
   "outputs": [
    {
     "data": {
      "text/plain": [
       "73.0"
      ]
     },
     "execution_count": 5,
     "metadata": {},
     "output_type": "execute_result"
    }
   ],
   "source": [
    "average(100, 90, 29) # Calling function with different parameters"
   ]
  },
  {
   "cell_type": "code",
   "execution_count": 6,
   "metadata": {},
   "outputs": [
    {
     "data": {
      "text/plain": [
       "5.3"
      ]
     },
     "execution_count": 6,
     "metadata": {},
     "output_type": "execute_result"
    }
   ],
   "source": [
    "average(1.2, 6.7, 8) # Calling function with different parameters"
   ]
  },
  {
   "cell_type": "code",
   "execution_count": 7,
   "metadata": {},
   "outputs": [
    {
     "name": "stdout",
     "output_type": "stream",
     "text": [
      "8\n"
     ]
    }
   ],
   "source": [
    "def power(n1, n2):\n",
    "    return (n1 ** n2)\n",
    "\n",
    "print(power(2, 3))"
   ]
  },
  {
   "cell_type": "code",
   "execution_count": 8,
   "metadata": {},
   "outputs": [
    {
     "data": {
      "text/plain": [
       "8"
      ]
     },
     "execution_count": 8,
     "metadata": {},
     "output_type": "execute_result"
    }
   ],
   "source": [
    "2**3"
   ]
  },
  {
   "cell_type": "markdown",
   "metadata": {},
   "source": [
    "A __value-returing function__ is a program routine called for it's return function like we used in examples above.\n",
    "\n",
    "```Python\n",
    "def power(n1, n2):\n",
    "    return n1 ** n2\n",
    "```\n",
    "\n",
    "A __non-value-returning function__ is called not for a returned value, but for its side effects. \n"
   ]
  },
  {
   "cell_type": "code",
   "execution_count": 9,
   "metadata": {},
   "outputs": [
    {
     "name": "stdout",
     "output_type": "stream",
     "text": [
      "8\n"
     ]
    }
   ],
   "source": [
    "val  = power(2,3)\n",
    "print(val)"
   ]
  },
  {
   "cell_type": "code",
   "execution_count": 10,
   "metadata": {},
   "outputs": [
    {
     "name": "stdout",
     "output_type": "stream",
     "text": [
      "This program will do this: \n"
     ]
    }
   ],
   "source": [
    "def displayWelcome():\n",
    "    print('This program will do this: ')\n",
    "displayWelcome()"
   ]
  },
  {
   "cell_type": "markdown",
   "metadata": {},
   "source": [
    "### Apply It!\n",
    "\n",
    "\n",
    "<p style=color:red>\n",
    "Write the Temperature Conversion program again, this time with the help of functions. But this time you will have to print more than one values between given degree to given degree, check the output:\n",
    "</p>\n",
    "\n",
    "    This program will convert a range of temperatures\n",
    "    Enter (F) to convert Fahrenheit to Celsius\n",
    "    Enter (C) to convert Celcius to Fahrenheit\n",
    "\n",
    "    Enter selection: F\n",
    "    Enter starting temperature to convert: 65\n",
    "    Enter ending temperature to convert: 95\n",
    "    \n",
    "      Degrees   Degrees\n",
    "    Fahrenheit  Celsius\n",
    "        65.0      18.3\n",
    "        66.0      18.9\n",
    "        67.0      19.4\n",
    "          .        .\n",
    "          .        .\n",
    "          .        .\n",
    "        94.0      34.4\n",
    "        95.0      35.0"
   ]
  },
  {
   "cell_type": "code",
   "execution_count": null,
   "metadata": {
    "collapsed": true
   },
   "outputs": [],
   "source": []
  },
  {
   "cell_type": "markdown",
   "metadata": {},
   "source": [
    "> More information may be needed"
   ]
  },
  {
   "cell_type": "markdown",
   "metadata": {},
   "source": [
    "---\n",
    "## Programming Exercises\n",
    "\n",
    "__P1:__ \n",
    "\n",
    "    Write a Python function named zeroCheck that is given three integers, and returns true if any of the integers is 0, otherwise it returns false.\n",
    "\n"
   ]
  },
  {
   "cell_type": "code",
   "execution_count": null,
   "metadata": {
    "collapsed": true
   },
   "outputs": [],
   "source": []
  },
  {
   "cell_type": "markdown",
   "metadata": {},
   "source": [
    "__P2:__\n",
    "\n",
    "    Write a Python function named ordered3 that is passed three integers, and returns true if the three integers are in order from smallest to largest, otherwise it returns false.\n",
    "    "
   ]
  },
  {
   "cell_type": "code",
   "execution_count": null,
   "metadata": {
    "collapsed": true
   },
   "outputs": [],
   "source": []
  },
  {
   "cell_type": "markdown",
   "metadata": {},
   "source": [
    "__P3:__\n",
    "\n",
    "    Write a Python function named modCount that is given a positive integer, n, and a second positive integer, m <= n, and returns how many numbers between 1 and n are evenly divisible by m."
   ]
  },
  {
   "cell_type": "code",
   "execution_count": null,
   "metadata": {
    "collapsed": true
   },
   "outputs": [],
   "source": []
  },
  {
   "cell_type": "markdown",
   "metadata": {},
   "source": [
    "__P4:__\n",
    "\n",
    "    Write a Python function named helloWorld that displays \"Hello World, my name is <name> \", for any given name passed to the routine."
   ]
  },
  {
   "cell_type": "code",
   "execution_count": null,
   "metadata": {
    "collapsed": true
   },
   "outputs": [],
   "source": []
  },
  {
   "cell_type": "markdown",
   "metadata": {},
   "source": [
    "__P5:__\n",
    "\n",
    "    Write a Python function named printAsterisks that is passed a positive integer value n, and prints out a line of n asterisks. If n is greater than 75, then only 75 asterisks should be displayed."
   ]
  },
  {
   "cell_type": "code",
   "execution_count": null,
   "metadata": {
    "collapsed": true
   },
   "outputs": [],
   "source": []
  },
  {
   "cell_type": "markdown",
   "metadata": {},
   "source": [
    "__P6:__\n",
    "\n",
    "    Implement a Python function that is passed a list of numeric values and a particular threshold value, and returns the list with all values above the given threshold value set to 0. The list should be altered as a side effect to the function call, and not by function return value."
   ]
  },
  {
   "cell_type": "code",
   "execution_count": null,
   "metadata": {
    "collapsed": true
   },
   "outputs": [],
   "source": []
  },
  {
   "cell_type": "markdown",
   "metadata": {},
   "source": [
    "__P7:__\n",
    "\n",
    "    Write a Python function named getContinue that displays to the user “Do you want to continue (y/n): ”, and continues to prompt the user until either uppercase or lowercase 'y' or 'n' is entered, returning (lowercase) 'y' or 'n' as the function value."
   ]
  },
  {
   "cell_type": "code",
   "execution_count": null,
   "metadata": {
    "collapsed": true
   },
   "outputs": [],
   "source": []
  },
  {
   "cell_type": "markdown",
   "metadata": {},
   "source": [
    "---\n",
    "\n",
    "## Development Problems\n",
    "\n",
    "__D1: Metric Conversion Program__\n",
    "\n",
    "    Develop and test a Python program that allows the user to convert between the metric measurements of millimeter, centimeter, meter, kilometer, and inches, feet, yards, and miles. The program should be written so that any one measurement can be converted to the other."
   ]
  },
  {
   "cell_type": "code",
   "execution_count": null,
   "metadata": {
    "collapsed": true
   },
   "outputs": [],
   "source": []
  },
  {
   "cell_type": "markdown",
   "metadata": {},
   "source": [
    "__D2: GPA Projection Program__\n",
    "\n",
    "    Develop and test a Python program that lets the user enter their current cumulative GPA, their total credits earned, and the number of credits they are currently taking. The program should then request from the user a target cumulative GPA that they wish to achieve, and display the GPA of the current semester needed to achieve it."
   ]
  },
  {
   "cell_type": "code",
   "execution_count": null,
   "metadata": {
    "collapsed": true
   },
   "outputs": [],
   "source": []
  },
  {
   "cell_type": "markdown",
   "metadata": {},
   "source": [
    "__D3: Tic-Tac-Toe Two-Player Program__\n",
    "\n",
    "    Develop and test a Python program that lets two players play tic-tac-toe. Let player 1 be X and player 2 be O. Devise a method for each player to indicate where they wish to place their symbol. The program should terminate if either there is a winner, or if the game results in a tie. The tic-tac-toe board should be displayed after every move as shown below.\n",
    "    \n",
    "                                                X  -  X\n",
    "                                                O  O  -\n",
    "                                                X  X  O\n",
    "\n"
   ]
  },
  {
   "cell_type": "code",
   "execution_count": null,
   "metadata": {
    "collapsed": true
   },
   "outputs": [],
   "source": []
  },
  {
   "cell_type": "markdown",
   "metadata": {},
   "source": [
    "__D4: Tic-Tac-Toe Automated Play *__\n",
    "\n",
    "    Develop and test a Python program that plays tic-tac-toe against the user. Develop an appropriate strategy of play and implement it in your program. The program should be designed to allow the user to continue to play new games until they decide to quit. The program should display the total number of wins by the computer versus the player at the start of each new game."
   ]
  },
  {
   "cell_type": "code",
   "execution_count": null,
   "metadata": {
    "collapsed": true
   },
   "outputs": [],
   "source": []
  }
 ],
 "metadata": {
  "anaconda-cloud": {},
  "kernelspec": {
   "display_name": "Python [default]",
   "language": "python",
   "name": "python3"
  },
  "language_info": {
   "codemirror_mode": {
    "name": "ipython",
    "version": 3
   },
   "file_extension": ".py",
   "mimetype": "text/x-python",
   "name": "python",
   "nbconvert_exporter": "python",
   "pygments_lexer": "ipython3",
   "version": "3.5.3"
  }
 },
 "nbformat": 4,
 "nbformat_minor": 1
}
