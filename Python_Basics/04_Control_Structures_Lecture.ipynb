{
 "cells": [
  {
   "cell_type": "markdown",
   "metadata": {},
   "source": [
    "# Control Structures\n",
    "\n",
    "A control statement is a statement that determines the control flow of a set of instructions.\n",
    "\n",
    "__Sequence control__ is an implicit form of control in which instructions are executed in the order that they are written.\n",
    "\n",
    "__Selection control__ is provided by a control statement that selectively executes instructions.\n",
    "\n",
    "__Iterative control__ is provided by an iterative control statement that repeatedly executes instructions.\n",
    "\n",
    "\n",
    "![Control Structures](https://docs.oracle.com/cd/A87860_01/doc/appdev.817/a77069/03_strua.gif)\n",
    "\n",
    "## Boolean Expressions \n",
    "\n",
    "- __Boolean__ is a specific data type consists of True and False in Python. \n",
    "- __Boolean expression__ is an expression that evaluates to a Boolean value.\n",
    "\n",
    "One way of producing Boolean values is by comparing\n",
    "\n",
    "- __Relational expressions__ are a type of Boolean expression, since they evaluate to a Boolean result.\n",
    "\n",
    "![Relational Expressions](http://www2.hawaii.edu/~takebaya/cent110/selection/relational_operators.png)"
   ]
  },
  {
   "cell_type": "code",
   "execution_count": 1,
   "metadata": {},
   "outputs": [
    {
     "data": {
      "text/plain": [
       "False"
      ]
     },
     "execution_count": 1,
     "metadata": {},
     "output_type": "execute_result"
    }
   ],
   "source": [
    "num = 10 # Assignment Operator\n",
    "num == 12 # Comparison operator"
   ]
  },
  {
   "cell_type": "markdown",
   "metadata": {},
   "source": [
    "We know that we can compare number for sure, but Python also let's us compare String values based on their character encoding. "
   ]
  },
  {
   "cell_type": "code",
   "execution_count": 2,
   "metadata": {},
   "outputs": [
    {
     "data": {
      "text/plain": [
       "False"
      ]
     },
     "execution_count": 2,
     "metadata": {},
     "output_type": "execute_result"
    }
   ],
   "source": [
    "10 == 20"
   ]
  },
  {
   "cell_type": "code",
   "execution_count": 3,
   "metadata": {},
   "outputs": [
    {
     "name": "stdout",
     "output_type": "stream",
     "text": [
      "<class 'str'>\n",
      "True\n"
     ]
    }
   ],
   "source": [
    "print(type('2'))\n",
    "print('2' < '9')"
   ]
  },
  {
   "cell_type": "code",
   "execution_count": 4,
   "metadata": {},
   "outputs": [
    {
     "name": "stdout",
     "output_type": "stream",
     "text": [
      "Aliya is the best!\n"
     ]
    }
   ],
   "source": [
    "# We can compare the strings by their ascii values, Python automatically\n",
    "## looks for their ascii value\n",
    "if \"Aliya\" > \"Alican\":\n",
    "    print(\"Aliya is the best!\")\n",
    "else:\n",
    "    print(\"No, Aliya is not the best!\")"
   ]
  },
  {
   "cell_type": "code",
   "execution_count": 5,
   "metadata": {},
   "outputs": [
    {
     "data": {
      "text/plain": [
       "False"
      ]
     },
     "execution_count": 5,
     "metadata": {},
     "output_type": "execute_result"
    }
   ],
   "source": [
    "'Hello' == \"hello\" # It's evaluates False because H and h is different in term of computers"
   ]
  },
  {
   "cell_type": "code",
   "execution_count": 6,
   "metadata": {},
   "outputs": [
    {
     "data": {
      "text/plain": [
       "False"
      ]
     },
     "execution_count": 6,
     "metadata": {},
     "output_type": "execute_result"
    }
   ],
   "source": [
    "'Hello' > 'Zebra'"
   ]
  },
  {
   "cell_type": "markdown",
   "metadata": {},
   "source": [
    "Another way to get Boolean values is by checking if the membership of given value is valid or not:"
   ]
  },
  {
   "cell_type": "code",
   "execution_count": 9,
   "metadata": {},
   "outputs": [
    {
     "data": {
      "text/plain": [
       "True"
      ]
     },
     "execution_count": 9,
     "metadata": {},
     "output_type": "execute_result"
    }
   ],
   "source": [
    "'Dr.' in 'Dr. Madison' # Checks if first value is in second"
   ]
  },
  {
   "cell_type": "code",
   "execution_count": 10,
   "metadata": {},
   "outputs": [
    {
     "data": {
      "text/plain": [
       "False"
      ]
     },
     "execution_count": 10,
     "metadata": {},
     "output_type": "execute_result"
    }
   ],
   "source": [
    "10 not in (10, 20, 30) # not makes True False"
   ]
  },
  {
   "cell_type": "markdown",
   "metadata": {},
   "source": [
    "Boolean (logical) operators , denoted by ```and```, ```or```, and ```not``` in Python. It is basically logic,"
   ]
  },
  {
   "cell_type": "code",
   "execution_count": 11,
   "metadata": {
    "collapsed": true
   },
   "outputs": [],
   "source": [
    "p = False\n",
    "r = True"
   ]
  },
  {
   "cell_type": "code",
   "execution_count": 12,
   "metadata": {},
   "outputs": [
    {
     "data": {
      "text/plain": [
       "False"
      ]
     },
     "execution_count": 12,
     "metadata": {},
     "output_type": "execute_result"
    }
   ],
   "source": [
    "p and r # And Logic"
   ]
  },
  {
   "cell_type": "code",
   "execution_count": 13,
   "metadata": {},
   "outputs": [
    {
     "data": {
      "text/plain": [
       "True"
      ]
     },
     "execution_count": 13,
     "metadata": {},
     "output_type": "execute_result"
    }
   ],
   "source": [
    "p or r # Or logic"
   ]
  },
  {
   "cell_type": "code",
   "execution_count": 14,
   "metadata": {},
   "outputs": [
    {
     "data": {
      "text/plain": [
       "False"
      ]
     },
     "execution_count": 14,
     "metadata": {},
     "output_type": "execute_result"
    }
   ],
   "source": [
    "not (r and (not p)) # Complex logics"
   ]
  },
  {
   "cell_type": "markdown",
   "metadata": {},
   "source": [
    "The boolean operators will give us a more complex comparison statements which eventually will lead us to better control structures."
   ]
  },
  {
   "cell_type": "code",
   "execution_count": 15,
   "metadata": {
    "collapsed": true
   },
   "outputs": [],
   "source": [
    "num = 15"
   ]
  },
  {
   "cell_type": "code",
   "execution_count": 16,
   "metadata": {},
   "outputs": [
    {
     "data": {
      "text/plain": [
       "False"
      ]
     },
     "execution_count": 16,
     "metadata": {},
     "output_type": "execute_result"
    }
   ],
   "source": [
    "(1 <= num <= 10)"
   ]
  },
  {
   "cell_type": "code",
   "execution_count": 17,
   "metadata": {},
   "outputs": [
    {
     "data": {
      "text/plain": [
       "False"
      ]
     },
     "execution_count": 17,
     "metadata": {},
     "output_type": "execute_result"
    }
   ],
   "source": [
    "# Above is equals to \n",
    "1 <= num and num <= 10"
   ]
  },
  {
   "cell_type": "code",
   "execution_count": 18,
   "metadata": {},
   "outputs": [
    {
     "data": {
      "text/plain": [
       "False"
      ]
     },
     "execution_count": 18,
     "metadata": {},
     "output_type": "execute_result"
    }
   ],
   "source": [
    "(10 < 0) and (10 > 2)"
   ]
  },
  {
   "cell_type": "code",
   "execution_count": 19,
   "metadata": {},
   "outputs": [
    {
     "data": {
      "text/plain": [
       "False"
      ]
     },
     "execution_count": 19,
     "metadata": {},
     "output_type": "execute_result"
    }
   ],
   "source": [
    "not(True) and False"
   ]
  },
  {
   "cell_type": "code",
   "execution_count": 20,
   "metadata": {},
   "outputs": [
    {
     "data": {
      "text/plain": [
       "True"
      ]
     },
     "execution_count": 20,
     "metadata": {},
     "output_type": "execute_result"
    }
   ],
   "source": [
    "not(True and False)"
   ]
  },
  {
   "cell_type": "code",
   "execution_count": 21,
   "metadata": {},
   "outputs": [
    {
     "data": {
      "text/plain": [
       "False"
      ]
     },
     "execution_count": 21,
     "metadata": {},
     "output_type": "execute_result"
    }
   ],
   "source": [
    "name = 'Ann'\n",
    "name in ('Thomas', 'MaryAnn', 'Thomas')"
   ]
  },
  {
   "cell_type": "code",
   "execution_count": 22,
   "metadata": {},
   "outputs": [
    {
     "data": {
      "text/plain": [
       "str"
      ]
     },
     "execution_count": 22,
     "metadata": {},
     "output_type": "execute_result"
    }
   ],
   "source": [
    "type(('MarryAnn'))"
   ]
  },
  {
   "cell_type": "markdown",
   "metadata": {},
   "source": [
    "## Selection Control\n",
    "\n",
    "A __selection control statement__ is a control statement providing selective execution of instructions.\n",
    "\n",
    "![](https://upload.wikimedia.org/wikipedia/commons/thumb/c/c5/If-Then-Else-diagram.svg/220px-If-Then-Else-diagram.svg.png)\n",
    "\n",
    "An if statement is a selection control statement based on the value of a given Boolean expression.\n",
    "\n",
    "__Syntax:__\n",
    "\n",
    "    if condition:\n",
    "        statements\n",
    "    else:\n",
    "        statements\n",
    "        \n",
    "> You don't have to include else part."
   ]
  },
  {
   "cell_type": "code",
   "execution_count": 24,
   "metadata": {},
   "outputs": [],
   "source": [
    "# It won't go to print(\"Yes\") part because it evaluates False\n",
    "if 10 < 0:\n",
    "    print(\"Yes\")"
   ]
  },
  {
   "cell_type": "code",
   "execution_count": 25,
   "metadata": {},
   "outputs": [
    {
     "name": "stdout",
     "output_type": "stream",
     "text": [
      "Failing Grade\n"
     ]
    }
   ],
   "source": [
    "grade = 66\n",
    "if grade >= 70:\n",
    "    print('Passing Grade')\n",
    "else:\n",
    "    print('Failing Grade')"
   ]
  },
  {
   "cell_type": "code",
   "execution_count": 26,
   "metadata": {},
   "outputs": [
    {
     "name": "stdout",
     "output_type": "stream",
     "text": [
      "Perfect Score!\n"
     ]
    }
   ],
   "source": [
    "# No need for else, but if you want to see something in case the\n",
    "## evaluation turns false, use it then \n",
    "grade = 100\n",
    "if grade == 100:\n",
    "    print('Perfect Score!')"
   ]
  },
  {
   "cell_type": "markdown",
   "metadata": {},
   "source": [
    "### Apply it!\n",
    "<p style=color:red>\n",
    "Write a small program that converts Fahrenheit to Celcius or vice-verse by getting input from user (F/C) \n",
    "</p>\n"
   ]
  },
  {
   "cell_type": "code",
   "execution_count": null,
   "metadata": {
    "collapsed": true
   },
   "outputs": [],
   "source": []
  },
  {
   "cell_type": "markdown",
   "metadata": {},
   "source": [
    "\n",
    "\n",
    "> Indentation is really important in Python since it does not use {} or ; \n",
    "\n",
    "\n",
    "Multiway selection is possible by nested if else statements:\n",
    "\n"
   ]
  },
  {
   "cell_type": "code",
   "execution_count": 27,
   "metadata": {},
   "outputs": [
    {
     "name": "stdout",
     "output_type": "stream",
     "text": [
      "Sophomore\n"
     ]
    }
   ],
   "source": [
    "credits = 45\n",
    "if credits >= 90:\n",
    "    print('Senior')\n",
    "else:\n",
    "    if credits >= 60:\n",
    "        print('Junior')\n",
    "    else:\n",
    "        if credits >= 30:\n",
    "            print('Sophomore')\n",
    "        else:\n",
    "            if credits >= 1:\n",
    "                print('Freshman')\n",
    "            else:\n",
    "                print('* No Earned Credits *')"
   ]
  },
  {
   "cell_type": "markdown",
   "metadata": {},
   "source": [
    "However there is a better way to do this using an additional keyword: ```elif```"
   ]
  },
  {
   "cell_type": "code",
   "execution_count": 28,
   "metadata": {},
   "outputs": [
    {
     "name": "stdout",
     "output_type": "stream",
     "text": [
      "Sophomore\n"
     ]
    }
   ],
   "source": [
    "credits = 45\n",
    "if credits >= 90:\n",
    "    print('Senior')\n",
    "elif credits >= 60:\n",
    "    print('Junior')\n",
    "elif credits >= 30:\n",
    "    print('Sophomore')\n",
    "elif credits >= 1:\n",
    "    print('Freshman')\n",
    "else:\n",
    "    print('* No Earned Credits *')"
   ]
  },
  {
   "cell_type": "markdown",
   "metadata": {},
   "source": [
    "### Apply It!\n",
    "\n",
    "<p style=color:red>\n",
    "Write a small program that prints the day of the specific month of a year. The output will look like this: \n",
    "</p>\n",
    "\n",
    "__Test 1:__\n",
    "\n",
    "    This program will determine the number of days in a given month\n",
    "    \n",
    "    Enter the month (1-12): 14\n",
    "    *Invalid Value Entered -14*\n",
    "    \n",
    "\n",
    "__Test 2:__\n",
    "\n",
    "    This program will determine the number of days in a given month\n",
    "    \n",
    "    Enter the month (1-12): 2\n",
    "    Please enter the year (e.g., 2010): 2000\n",
    "    There are 29 days in the month\n",
    "    \n",
    "<p style=color:red>\n",
    "Use if and elif statements\n",
    "</p>\n",
    "\n",
    "Hint1:\n",
    "<p style=color:white>\n",
    "The days of the month are fixed regardless of the year, except February. <br>\n",
    "\n",
    "Check for 2. \n",
    "</p>\n",
    "\n",
    "Hint2:\n",
    "<p style=color:white>\n",
    "If the year is divisible by 4 but is also divisible by 100, then it is not a leap year— unless, it is also divisible by 400, then it is.\n",
    "</p>\n",
    "\n",
    "Hint3:\n",
    "<p style=color:white>\n",
    "(year % 4 == 0) and (not (year % 100 == 0) or (year % 400 == 0))\n",
    "</p>\n"
   ]
  },
  {
   "cell_type": "markdown",
   "metadata": {},
   "source": [
    "## Iterative Control\n",
    "\n",
    "An __iterative control statement__ is a control statement providing the repeated execution of a set of instructions.\n",
    "\n",
    "![](http://www.tenouk.com/Module6_files/programcontrol021.png)\n",
    "\n",
    "Because of the repeated execution, iterative control structures are commonly referred to as __“loops”__ and that's how I am going to name them :)\n",
    "\n",
    "\n",
    "A __while statement__ is an iterative control statement that repeatedly executes a set of statements _based on a provided Boolean expression (condition)_.\n",
    "\n",
    "__Syntax__:\n",
    "\n",
    "    while condition:\n",
    "        statement\n"
   ]
  },
  {
   "cell_type": "code",
   "execution_count": 29,
   "metadata": {},
   "outputs": [
    {
     "name": "stdout",
     "output_type": "stream",
     "text": [
      "Enter value: 10\n"
     ]
    }
   ],
   "source": [
    "# Initial variables\n",
    "total = 0\n",
    "i = 1\n",
    "n = int(input('Enter value: '))"
   ]
  },
  {
   "cell_type": "code",
   "execution_count": 30,
   "metadata": {},
   "outputs": [
    {
     "name": "stdout",
     "output_type": "stream",
     "text": [
      "55\n"
     ]
    }
   ],
   "source": [
    "while i <= n:\n",
    "    total += i # total = total + i\n",
    "    i += 1\n",
    "print(total)"
   ]
  },
  {
   "cell_type": "markdown",
   "metadata": {},
   "source": [
    "As long as the condition of a while statement is true, the statements within the loop are (re)executed."
   ]
  },
  {
   "cell_type": "code",
   "execution_count": 31,
   "metadata": {},
   "outputs": [
    {
     "name": "stdout",
     "output_type": "stream",
     "text": [
      "1\n",
      "3\n",
      "6\n",
      "10\n",
      "15\n",
      "21\n",
      "28\n",
      "36\n",
      "45\n",
      "55\n"
     ]
    }
   ],
   "source": [
    "# This example just uses time library to make 2 sec pauses in between iterations\n",
    "import time\n",
    "n = 10\n",
    "tot = 0\n",
    "i = 1\n",
    "while i <= n:\n",
    "    tot = tot + i \n",
    "    i = i + 1\n",
    "    print(tot)\n",
    "    time.sleep(2)"
   ]
  },
  {
   "cell_type": "code",
   "execution_count": 32,
   "metadata": {},
   "outputs": [
    {
     "name": "stdout",
     "output_type": "stream",
     "text": [
      "5050\n"
     ]
    }
   ],
   "source": [
    "# Infinite loops can be used with break statements inside\n",
    "n = 100\n",
    "tot = 0\n",
    "while True:\n",
    "    tot = tot + n\n",
    "    n = n - 1\n",
    "    if n == 0:\n",
    "        break\n",
    "print(tot)"
   ]
  },
  {
   "cell_type": "markdown",
   "metadata": {},
   "source": [
    "An __infinite loop__ is an iterative control structure that never terminates (or eventually terminates with a system error). Usually programming errors\n",
    "\n",
    "let's inspect the following snippet:\n",
    "\n",
    "```Python\n",
    "# add up first n integers\n",
    "tot = 0\n",
    "current = 1\n",
    "n =  int(input('Enter value: ')\n",
    "while current <= n:\n",
    "    tot = tot + current\n",
    "```\n",
    "If your program got stuck in infinite loop you can use special keyboard interruption such as ```ctrl+C```-\n"
   ]
  },
  {
   "cell_type": "markdown",
   "metadata": {},
   "source": [
    "### Apply It!\n",
    "\n",
    "<p style=color:red>\n",
    "Write a small program that displays a random value between 1 and 99 cents, and ask user to enter a set of coins that sums exactly to the amount shown.You should use while loop, if statement, Boolean Flag, random number generator The output will look like this: \n",
    "</p>\n",
    "\n",
    "    The purpose of this exercise is to enter a number of coin values that add up to a displayed target value. \n",
    "    \n",
    "    Enter coins values as 1-penny, 5-nickel, 10-dime, and 25-quarter.\n",
    "    Hit return/enter after the last entered coin value. \n",
    "    ------------------\n",
    "    Enter coins that add up to 63 cents, one per line. \n",
    "    \n",
    "    Enter first coin: 25\n",
    "    Enter next coin: 25\n",
    "    Enter next coin: 10\n",
    "    Enter next coin: \n",
    "    Sorry - you only entered 60 cents.\n",
    "    \n",
    "    Try again (y/n)?: y  \n",
    "    Enter coins that add up to 21 cents, one per line. \n",
    "    \n",
    "    Enter first coin: 11\n",
    "    Invalid entry\n",
    "    Enter next coin: 10\n",
    "    Enter next coin: 10\n",
    "    Enter next coin: 5\n",
    "    Sorry - total amount exceeds 21 cents.\n",
    "    \n",
    "    Try again (y/n)?: y\n",
    "    Enter coins that add up to 83 cents, one per line. \n",
    "    \n",
    "    Enter first coin: 25\n",
    "    Enter next coin: 25\n",
    "    Enter next coin: 25\n",
    "    Enter next coin: 5\n",
    "    Enter next coin: 1\n",
    "    Enter next coin: 1\n",
    "    Enter next coin: 1\n",
    "    Enter next coin:\n",
    "    Correct!\n",
    "    \n",
    "    Try again (y/n)?: n\n",
    "    Thanks for playing ... goodbye"
   ]
  },
  {
   "cell_type": "code",
   "execution_count": null,
   "metadata": {
    "collapsed": true
   },
   "outputs": [],
   "source": []
  },
  {
   "cell_type": "markdown",
   "metadata": {},
   "source": [
    "---\n",
    "## Programming Exercises\n",
    "\n",
    "__P1:__\n",
    "\n",
    "    Write a Python program in which the user enters either 'A', 'B', or 'C'. If 'A' is entered, the program should display the word 'Apple'; if 'B' is entered, it displays 'Banana'; and if 'C' is entered, it displays 'Coconut'.\n",
    "    \n",
    "__Solution:__"
   ]
  },
  {
   "cell_type": "code",
   "execution_count": null,
   "metadata": {
    "collapsed": true
   },
   "outputs": [],
   "source": []
  },
  {
   "cell_type": "markdown",
   "metadata": {},
   "source": [
    "__P2:__\n",
    "\n",
    "    Write a Python program in which a student enters the number of college credits earned. If the number of credits is greater than 90, 'Senior Status' is displayed; if greater than 60, 'Junior Status' is displayed; if greater than 30, 'Sophomore Status' is displayed; else, 'Freshman Status' is displayed.\n",
    "    \n",
    "__Solution:__"
   ]
  },
  {
   "cell_type": "code",
   "execution_count": null,
   "metadata": {
    "collapsed": true
   },
   "outputs": [],
   "source": []
  },
  {
   "cell_type": "markdown",
   "metadata": {},
   "source": [
    "__P3:__\n",
    "\n",
    "    Write a program that sums a series of (positive) integers entered by the user, excluding all numbers that  are greater than 100.\n",
    "    \n",
    "\n",
    "__Solution:__"
   ]
  },
  {
   "cell_type": "code",
   "execution_count": null,
   "metadata": {
    "collapsed": true
   },
   "outputs": [],
   "source": []
  },
  {
   "cell_type": "markdown",
   "metadata": {},
   "source": [
    "__P4:__\n",
    "\n",
    "    Write a program, in which the user can enter any number of positive and negative integer values, that displays the number of positive values entered, as well as the number of negative values.\n",
    "    \n",
    "__Solution:__"
   ]
  },
  {
   "cell_type": "code",
   "execution_count": null,
   "metadata": {
    "collapsed": true
   },
   "outputs": [],
   "source": []
  },
  {
   "cell_type": "markdown",
   "metadata": {},
   "source": [
    "---\n",
    "## Development Problems\n",
    "\n",
    "__D1: Metric Conversion__\n",
    "\n",
    "    Develop and test a Python program that converts pounds to grams, inches to centimeters, and kilometers to miles. The program should allow conversions both ways.\n",
    "    \n",
    "    \n",
    "__Solution:__"
   ]
  },
  {
   "cell_type": "code",
   "execution_count": null,
   "metadata": {
    "collapsed": true
   },
   "outputs": [],
   "source": []
  },
  {
   "cell_type": "markdown",
   "metadata": {},
   "source": [
    "__D2: Leap Years to Come__\n",
    "\n",
    "    Develop and test a Python program that displays future leap years, starting with the first occurring leap year from the current year, until a final year entered by the user. (HINT: Module datetime can be used)\n",
    "    \n",
    "__Solution:__"
   ]
  },
  {
   "cell_type": "code",
   "execution_count": null,
   "metadata": {
    "collapsed": true
   },
   "outputs": [],
   "source": []
  },
  {
   "cell_type": "markdown",
   "metadata": {},
   "source": [
    "__D3: The First-Time Home Buyer Tax Credit__\n",
    "\n",
    "    Develop and test a Python program that determines if an individual qualifies for a government First-Time Home Buyer Tax Credit of $8,000. The credit was only available to those that; \n",
    "    (a) bought a house that cost less than $800,000, \n",
    "    (b) had a combined income of under $225,000 and \n",
    "    (c) had not owned a primary residence in the last three years.\n",
    "    \n",
    "__Solution:__"
   ]
  },
  {
   "cell_type": "code",
   "execution_count": null,
   "metadata": {
    "collapsed": true
   },
   "outputs": [],
   "source": []
  },
  {
   "cell_type": "markdown",
   "metadata": {},
   "source": [
    "__D4: Home Loan Amortization__\n",
    "\n",
    "    Develop and test a Python program that calculates the monthly mortgage payments for a given loan amount, term (number of years) and range of interest rates from 3% to 18%. The fundamental formula for determining this is A/D, where A is the original loan amount, and D is the discount factor. The discount factor is calculated as;\n",
    "    \n",
    "$$  D = \\left(\\left(1 + r\\right)^n - 1\\right) / r \\left(1 + r \\right)^n $$\n",
    "\n",
    "    where n is the number of total payments (12 times the number of years of the loan) and r is the interest rate, expressed in decimal form (e.g., .05), divided by 12. A monthly payment table should be generated as shown below,\n",
    "    \n",
    "                                    Load Amount: $350,000  Term: 30 years\n",
    "                                    Interest Rate          Monthly Payment\n",
    "                                         3%                    1475.61\n",
    "                                         4%                    1670.95\n",
    "                                         5%                    1878.88\n",
    "                                         6%                    2098.43\n",
    "                                         .                        .\n",
    "                                         .                        .\n",
    "                                         18%                   5274.80"
   ]
  },
  {
   "cell_type": "code",
   "execution_count": null,
   "metadata": {
    "collapsed": true
   },
   "outputs": [],
   "source": []
  }
 ],
 "metadata": {
  "anaconda-cloud": {},
  "kernelspec": {
   "display_name": "Python [default]",
   "language": "python",
   "name": "python3"
  },
  "language_info": {
   "codemirror_mode": {
    "name": "ipython",
    "version": 3
   },
   "file_extension": ".py",
   "mimetype": "text/x-python",
   "name": "python",
   "nbconvert_exporter": "python",
   "pygments_lexer": "ipython3",
   "version": "3.5.3"
  }
 },
 "nbformat": 4,
 "nbformat_minor": 1
}
